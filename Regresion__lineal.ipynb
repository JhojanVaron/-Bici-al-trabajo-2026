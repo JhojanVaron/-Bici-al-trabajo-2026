{
  "nbformat": 4,
  "nbformat_minor": 0,
  "metadata": {
    "colab": {
      "provenance": [],
      "authorship_tag": "ABX9TyMD1lxlV3j7bIr8PFj28NCz",
      "include_colab_link": true
    },
    "kernelspec": {
      "name": "python3",
      "display_name": "Python 3"
    },
    "language_info": {
      "name": "python"
    }
  },
  "cells": [
    {
      "cell_type": "markdown",
      "metadata": {
        "id": "view-in-github",
        "colab_type": "text"
      },
      "source": [
        "<a href=\"https://colab.research.google.com/github/JhojanVaron/-Bici-al-trabajo-2026/blob/main/Regresion__lineal.ipynb\" target=\"_parent\"><img src=\"https://colab.research.google.com/assets/colab-badge.svg\" alt=\"Open In Colab\"/></a>"
      ]
    },
    {
      "cell_type": "markdown",
      "source": [
        "Taller 3: Regresión Lineal y Conceptos Fundamentales\n",
        "Instrucciones Generales\n",
        "Fecha de entrega: 20 de septiembre. Tiempo disponible: Tienen dos clases y el fin de semana para completar el taller.\n",
        "\n",
        "Trabajo en Grupo: Este taller se debe realizar en los grupos previamente definidos.\n",
        "Repositorio en GitHub: Cada grupo debe crear un repositorio en GitHub.\n",
        "Una sola persona del grupo es responsable de crearlo.\n",
        "El repositorio debe llamarse Regresion_Lineal.\n",
        "Este archivo debe ser subido al repositorio con el nombre Regresion_Lineal.ipynb.\n",
        "Alternativa: Si tienen complicaciones con GitHub, pueden enviar el enlace del cuaderno de Google Colab al aula virtual.\n",
        "Actividad a Mano (20% de la nota):\n",
        "La asistencia a clase es obligatoria.\n",
        "Se realizará una actividad práctica de regresión lineal a mano.\n",
        "Cada integrante del grupo deberá firmar la hoja de la actividad, la cual constituye el 20% de la nota de este taller.\n"
      ],
      "metadata": {
        "id": "YCRjWeRSVA8w"
      }
    }
  ]
}